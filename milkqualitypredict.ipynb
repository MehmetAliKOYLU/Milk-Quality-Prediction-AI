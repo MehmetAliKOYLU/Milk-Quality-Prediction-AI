{
 "cells": [
  {
   "cell_type": "code",
   "execution_count": 16,
   "metadata": {},
   "outputs": [],
   "source": [
    "import pandas as pd\n",
    "import matplotlib.pyplot as plt\n",
    "import numpy as np\n",
    "from sklearn.model_selection import train_test_split, cross_val_score\n",
    "from sklearn.ensemble import RandomForestClassifier\n",
    "from sklearn.neighbors import KNeighborsClassifier\n",
    "from sklearn.preprocessing import MinMaxScaler \n",
    "from sklearn.metrics import classification_report\n",
    "from sklearn.neighbors import KNeighborsClassifier\n",
    "import warnings\n",
    "\n",
    "warnings.filterwarnings(\"ignore\",category=UserWarning)"
   ]
  },
  {
   "cell_type": "markdown",
   "metadata": {},
   "source": []
  },
  {
   "cell_type": "code",
   "execution_count": 17,
   "metadata": {},
   "outputs": [
    {
     "data": {
      "text/html": [
       "<div>\n",
       "<style scoped>\n",
       "    .dataframe tbody tr th:only-of-type {\n",
       "        vertical-align: middle;\n",
       "    }\n",
       "\n",
       "    .dataframe tbody tr th {\n",
       "        vertical-align: top;\n",
       "    }\n",
       "\n",
       "    .dataframe thead th {\n",
       "        text-align: right;\n",
       "    }\n",
       "</style>\n",
       "<table border=\"1\" class=\"dataframe\">\n",
       "  <thead>\n",
       "    <tr style=\"text-align: right;\">\n",
       "      <th></th>\n",
       "      <th>pH</th>\n",
       "      <th>Temprature</th>\n",
       "      <th>Taste</th>\n",
       "      <th>Odor</th>\n",
       "      <th>Fat</th>\n",
       "      <th>Turbidity</th>\n",
       "      <th>Colour</th>\n",
       "      <th>Grade</th>\n",
       "    </tr>\n",
       "  </thead>\n",
       "  <tbody>\n",
       "    <tr>\n",
       "      <th>0</th>\n",
       "      <td>6.6</td>\n",
       "      <td>35</td>\n",
       "      <td>1</td>\n",
       "      <td>0</td>\n",
       "      <td>1</td>\n",
       "      <td>0</td>\n",
       "      <td>254</td>\n",
       "      <td>high</td>\n",
       "    </tr>\n",
       "    <tr>\n",
       "      <th>1</th>\n",
       "      <td>6.6</td>\n",
       "      <td>36</td>\n",
       "      <td>0</td>\n",
       "      <td>1</td>\n",
       "      <td>0</td>\n",
       "      <td>1</td>\n",
       "      <td>253</td>\n",
       "      <td>high</td>\n",
       "    </tr>\n",
       "    <tr>\n",
       "      <th>2</th>\n",
       "      <td>8.5</td>\n",
       "      <td>70</td>\n",
       "      <td>1</td>\n",
       "      <td>1</td>\n",
       "      <td>1</td>\n",
       "      <td>1</td>\n",
       "      <td>246</td>\n",
       "      <td>low</td>\n",
       "    </tr>\n",
       "    <tr>\n",
       "      <th>3</th>\n",
       "      <td>9.5</td>\n",
       "      <td>34</td>\n",
       "      <td>1</td>\n",
       "      <td>1</td>\n",
       "      <td>0</td>\n",
       "      <td>1</td>\n",
       "      <td>255</td>\n",
       "      <td>low</td>\n",
       "    </tr>\n",
       "    <tr>\n",
       "      <th>4</th>\n",
       "      <td>6.6</td>\n",
       "      <td>37</td>\n",
       "      <td>0</td>\n",
       "      <td>0</td>\n",
       "      <td>0</td>\n",
       "      <td>0</td>\n",
       "      <td>255</td>\n",
       "      <td>medium</td>\n",
       "    </tr>\n",
       "  </tbody>\n",
       "</table>\n",
       "</div>"
      ],
      "text/plain": [
       "    pH  Temprature  Taste  Odor  Fat   Turbidity  Colour   Grade\n",
       "0  6.6          35      1     0     1          0     254    high\n",
       "1  6.6          36      0     1     0          1     253    high\n",
       "2  8.5          70      1     1     1          1     246     low\n",
       "3  9.5          34      1     1     0          1     255     low\n",
       "4  6.6          37      0     0     0          0     255  medium"
      ]
     },
     "execution_count": 17,
     "metadata": {},
     "output_type": "execute_result"
    }
   ],
   "source": [
    "\n",
    "data=pd.read_csv(\"milknew.csv\")\n",
    "data.head()"
   ]
  },
  {
   "cell_type": "code",
   "execution_count": 18,
   "metadata": {},
   "outputs": [],
   "source": [
    "high=data[data.Grade==\"high\"]\n",
    "medium=data[data.Grade==\"medium\"]\n",
    "low=data[data.Grade==\"low\"]"
   ]
  },
  {
   "cell_type": "code",
   "execution_count": 19,
   "metadata": {},
   "outputs": [
    {
     "data": {
      "image/png": "[encoded data removed]",
      "text/plain": [
       "<Figure size 640x480 with 1 Axes>"
      ]
     },
     "metadata": {},
     "output_type": "display_data"
    }
   ],
   "source": [
    "plt.scatter(high.pH, high.Colour, color=\"green\", label=\"HighQuality\", alpha = 0.4)\n",
    "plt.scatter(medium.pH, medium.Colour, color=\"blue\",label=\"MediumQuality\",alpha=0.4)\n",
    "plt.scatter(low.pH, low.Colour, color=\"red\", label=\"LowQuality\", alpha = 0.4)\n",
    "plt.xlabel(\"Ph\")\n",
    "plt.ylabel(\"colour\")\n",
    "plt.legend()\n",
    "plt.savefig('MilkQuality.png',dpi=300)\n",
    "plt.show()"
   ]
  },
  {
   "cell_type": "code",
   "execution_count": 20,
   "metadata": {},
   "outputs": [],
   "source": [
    "y=data.Grade.values\n",
    "x=data.drop([\"Grade\"],axis=1)\n"
   ]
  },
  {
   "cell_type": "code",
   "execution_count": 21,
   "metadata": {},
   "outputs": [],
   "source": [
    "x_train,x_test,y_train,y_test=train_test_split(x,y,test_size=0.1,random_state=5)\n"
   ]
  },
  {
   "cell_type": "code",
   "execution_count": 22,
   "metadata": {},
   "outputs": [
    {
     "name": "stdout",
     "output_type": "stream",
     "text": [
      "Optimal k value: 1\n",
      "Accuracy with optimal k value: %100.00\n"
     ]
    },
    {
     "data": {
      "text/plain": [
       "array([[0.55384615, 0.01785714, 1.        , ..., 1.        , 0.        ,\n",
       "        0.93333333],\n",
       "       [0.55384615, 0.03571429, 0.        , ..., 0.        , 1.        ,\n",
       "        0.86666667],\n",
       "       [0.84615385, 0.64285714, 1.        , ..., 1.        , 1.        ,\n",
       "        0.4       ],\n",
       "       ...,\n",
       "       [0.        , 0.10714286, 1.        , ..., 1.        , 1.        ,\n",
       "        1.        ],\n",
       "       [0.58461538, 0.16071429, 1.        , ..., 1.        , 0.        ,\n",
       "        0.66666667],\n",
       "       [0.86153846, 0.375     , 0.        , ..., 1.        , 1.        ,\n",
       "        1.        ]])"
      ]
     },
     "execution_count": 22,
     "metadata": {},
     "output_type": "execute_result"
    }
   ],
   "source": [
    "k_values = list(range(1, 10))\n",
    "\n",
    "mean_scores = []\n",
    "\n",
    "for k in k_values:\n",
    "    knn = KNeighborsClassifier(n_neighbors=k)\n",
    "    scores = cross_val_score(knn, x_train, y_train, cv=5)  # 5x cross value score\n",
    "    mean_scores.append(scores.mean())\n",
    "\n",
    "# Optimal k values =\n",
    "optimal_k = k_values[mean_scores.index(max(mean_scores))]\n",
    "print(\"Optimal k value:\", optimal_k)\n",
    "\n",
    "#create final model with Optimal k values\n",
    "final_knn = KNeighborsClassifier(n_neighbors=optimal_k)\n",
    "final_knn.fit(x_train, y_train)\n",
    "\n",
    "# Accuracy with optimal k value\n",
    "accuracy = final_knn.score(x_test, y_test)\n",
    "print(f\"Accuracy with optimal k value: %{accuracy * 100:.2f}\")\n",
    "sc = MinMaxScaler()\n",
    "sc.fit_transform(x.values)"
   ]
  },
  {
   "cell_type": "code",
   "execution_count": 23,
   "metadata": {},
   "outputs": [
    {
     "name": "stdout",
     "output_type": "stream",
     "text": [
      "You are in the Low Quality category.\n"
     ]
    }
   ],
   "source": [
    "def newprediction():\n",
    "    v1 = float(input(\"Enter your pH(This Column defines PH alus of the milk which ranges from 3 to 9.5 max : 6.25 to 6.90): \"))\n",
    "    v2 = int(input(\"Enter your Temprature(This Column defines Temprature of the milk which ranges from 34'C to 90'C max : 34'C to 45.20'C): \"))\n",
    "    v3 = int(input(\"Enter your Taste(This Column defines Taste of the milk which is categorical data 0 (Bad) or 1 (Good) max : 1 (Good)): \"))\n",
    "    v4 = float(input(\"Enter your Odor(This Column defines Odor of the milk which is categorical data 0 (Bad) or 1 (Good) max : 0 (Bad)): \"))  \n",
    "    v5 = int(input(\"Enter your Fat(This Column defines Odor of the milk which is categorical data 0 (Low) or 1 (High) max : 1 (High)): \"))  \n",
    "    v6 = int(input(\"Enter your Turbidity(This Column defines Turbidity of the milk which is categorical data 0 (Low) or 1 (High) max : 1 (High)): \"))\n",
    "    v7 = int(input(\"Enter your Colour(This Column defines Colour of the milk which ranges from 240 to 255 max : 255): \"))\n",
    "\n",
    "    new_prediction = final_knn.predict(np.array([[v1, v2, v3, v4, v5, v6, v7]]))\n",
    "\n",
    "    if new_prediction[0] == \"high\":\n",
    "        print(\"You are in the High Quality category.\")\n",
    "    elif new_prediction[0] == \"medium\":\n",
    "        print(\"You are in the Medium Quality category.\")\n",
    "    elif new_prediction[0] == \"low\":\n",
    "        print(\"You are in the Low Quality category.\")\n",
    "    else:\n",
    "        print(\"Invalid prediction.\")\n",
    "\n",
    "\n",
    "newprediction()\n",
    "\n"
   ]
  }
 ],
 "metadata": {
  "kernelspec": {
   "display_name": "Python 3",
   "language": "python",
   "name": "python3"
  },
  "language_info": {
   "codemirror_mode": {
    "name": "ipython",
    "version": 3
   },
   "file_extension": ".py",
   "mimetype": "text/x-python",
   "name": "python",
   "nbconvert_exporter": "python",
   "pygments_lexer": "ipython3",
   "version": "3.11.5"
  }
 },
 "nbformat": 4,
 "nbformat_minor": 2
}
